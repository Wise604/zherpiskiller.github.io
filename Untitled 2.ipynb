{
 "cells": [
  {
   "cell_type": "code",
   "execution_count": 2,
   "metadata": {},
   "outputs": [
    {
     "name": "stdout",
     "output_type": "stream",
     "text": [
      "🔐=== Carreira Hacker: zherpis killer ===🔐\n",
      "⏳ Tempo de Atividade: 4 anos\n",
      "\n",
      "🎯 Especialidades:\n",
      "  1. Pentest avançado\n",
      "  2. Engenharia Social\n",
      "  3. Invasão de sistemas Wi-Fi\n",
      "\n",
      "💣 Operações Notórias:\n",
      "  [✔] Operação ShadowNet - coleta de dados expostos\n",
      "  [✔] Simulação de vazamento em servidor escolar\n",
      "  [✔] Análise de falha crítica em app bancário (demo ética)\n",
      "\n",
      "💻 Filosofia Hacker: 'A informação quer ser livre.'\n",
      "\n",
      "🛰️ Projeto atual liderado por zherpis killer: [SIGILOSO]\n",
      "\n",
      "⚠️ Apenas para fins educativos e fictícios.\n"
     ]
    }
   ],
   "source": [
    "hacker_nome = \"zherpis killer\"\n",
    "anos_atividade = 4\n",
    "especialidades = [\n",
    "    \"Pentest avançado\",\n",
    "    \"Engenharia Social\",\n",
    "    \"Invasão de sistemas Wi-Fi\"\n",
    "]\n",
    "ataques_famosos = [\n",
    "    \"Operação ShadowNet - coleta de dados expostos\",\n",
    "    \"Simulação de vazamento em servidor escolar\",\n",
    "    \"Análise de falha crítica em app bancário (demo ética)\",\n",
    "]\n",
    "\n",
    "print(\"🔐=== Carreira Hacker: {} ===🔐\".format(hacker_nome))\n",
    "print(\"⏳ Tempo de Atividade: {} anos\\n\".format(anos_atividade))\n",
    "\n",
    "print(\"🎯 Especialidades:\")\n",
    "for i, esp in enumerate(especialidades, 1):\n",
    "    print(f\"  {i}. {esp}\")\n",
    "\n",
    "print(\"\\n💣 Operações Notórias:\")\n",
    "for op in ataques_famosos:\n",
    "    print(f\"  [✔] {op}\")\n",
    "\n",
    "print(\"\\n💻 Filosofia Hacker: 'A informação quer ser livre.'\")\n",
    "print(f\"\\n🛰️ Projeto atual liderado por {hacker_nome}: [SIGILOSO]\")\n",
    "print(\"\\n⚠️ Apenas para fins educativos e fictícios.\")"
   ]
  },
  {
   "cell_type": "code",
   "execution_count": null,
   "metadata": {},
   "outputs": [],
   "source": []
  }
 ],
 "metadata": {
  "kernelspec": {
   "display_name": "Python 3 (ipykernel)",
   "language": "python",
   "name": "python3"
  },
  "language_info": {
   "codemirror_mode": {
    "name": "ipython",
    "version": 3
   },
   "file_extension": ".py",
   "mimetype": "text/x-python",
   "name": "python",
   "nbconvert_exporter": "python",
   "pygments_lexer": "ipython3",
   "version": "3.11.0"
  }
 },
 "nbformat": 4,
 "nbformat_minor": 4
}
